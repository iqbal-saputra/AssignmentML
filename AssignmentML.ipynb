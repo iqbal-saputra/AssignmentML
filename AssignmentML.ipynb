{
 "cells": [
  {
   "cell_type": "code",
   "execution_count": 2,
   "id": "78d9340b",
   "metadata": {},
   "outputs": [],
   "source": [
    "import pandas as pd\n",
    "import numpy as np\n",
    "import matplotlib.pyplot as plt\n",
    "import seaborn as sns\n",
    "import os\n",
    "import sys\n",
    "import argparse\n",
    "import glob\n",
    "import re\n"
   ]
  },
  {
   "cell_type": "code",
   "execution_count": 3,
   "id": "84c2451b",
   "metadata": {},
   "outputs": [
    {
     "data": {
      "text/plain": [
       "30"
      ]
     },
     "execution_count": 3,
     "metadata": {},
     "output_type": "execute_result"
    }
   ],
   "source": [
    "a = 10\n",
    "b = 20\n",
    "a + b\n"
   ]
  },
  {
   "cell_type": "code",
   "execution_count": 4,
   "id": "3ad5cd68",
   "metadata": {},
   "outputs": [],
   "source": [
    "# aioushndiausndaiusndu"
   ]
  },
  {
   "cell_type": "code",
   "execution_count": 5,
   "id": "08d1bf17",
   "metadata": {},
   "outputs": [],
   "source": [
    "# Reza Alghif "
   ]
  },
  {
   "cell_type": "code",
   "execution_count": 6,
   "id": "a16e1d38",
   "metadata": {},
   "outputs": [],
   "source": [
    "# test"
   ]
  },
  {
   "cell_type": "code",
   "execution_count": 7,
   "id": "cc505eee",
   "metadata": {},
   "outputs": [],
   "source": [
    "# iqbal 2"
   ]
  },
  {
   "cell_type": "code",
   "execution_count": 8,
   "id": "8425818c",
   "metadata": {},
   "outputs": [],
   "source": [
    "# radiiiiiit"
   ]
  },
  {
   "cell_type": "code",
   "execution_count": null,
   "id": "d9fcc284",
   "metadata": {},
   "outputs": [],
   "source": [
    "# autosave kontolllll"
   ]
  }
 ],
 "metadata": {
  "kernelspec": {
   "display_name": "py310",
   "language": "python",
   "name": "python3"
  },
  "language_info": {
   "codemirror_mode": {
    "name": "ipython",
    "version": 3
   },
   "file_extension": ".py",
   "mimetype": "text/x-python",
   "name": "python",
   "nbconvert_exporter": "python",
   "pygments_lexer": "ipython3",
   "version": "3.10.14"
  }
 },
 "nbformat": 4,
 "nbformat_minor": 5
}
