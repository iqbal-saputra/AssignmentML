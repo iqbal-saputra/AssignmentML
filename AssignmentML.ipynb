{
 "cells": [
  {
   "cell_type": "markdown",
   "id": "6e787aa7",
   "metadata": {},
   "source": [
    "# Intro"
   ]
  },
  {
   "cell_type": "markdown",
   "id": "00d1cc74",
   "metadata": {},
   "source": [
    "## Assignment Machine Learning\n",
    "\n",
    "| Nama          | NIM |\n",
    "|---------------|-----|\n",
    "| Muhammad Iqbal Saputra | 2702390236 |\n",
    "| Radit Arya Pradipta               | 2802446705          |\n",
    "| Muhammad Reza Alghifari                   | 2802555044          |"
   ]
  },
  {
   "cell_type": "markdown",
   "id": "c44918ed",
   "metadata": {},
   "source": [
    "# Import Library"
   ]
  },
  {
   "cell_type": "markdown",
   "id": "4659b38b",
   "metadata": {},
   "source": [
    "# Exploratory Data Analysis"
   ]
  },
  {
   "cell_type": "markdown",
   "id": "cc505eee",
   "metadata": {},
   "source": [
    "# Pre-processing"
   ]
  },
  {
   "cell_type": "markdown",
   "id": "f32d5812",
   "metadata": {},
   "source": [
    "# Feature Engineering"
   ]
  },
  {
   "cell_type": "markdown",
   "id": "8425818c",
   "metadata": {},
   "source": [
    "# Model Training and Evaluation"
   ]
  }
 ],
 "metadata": {
  "kernelspec": {
   "display_name": "py310",
   "language": "python",
   "name": "python3"
  },
  "language_info": {
   "codemirror_mode": {
    "name": "ipython",
    "version": 3
   },
   "file_extension": ".py",
   "mimetype": "text/x-python",
   "name": "python",
   "nbconvert_exporter": "python",
   "pygments_lexer": "ipython3",
   "version": "3.10.14"
  }
 },
 "nbformat": 4,
 "nbformat_minor": 5
}
