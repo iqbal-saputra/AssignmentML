{
 "cells": [
  {
   "cell_type": "code",
   "execution_count": 1,
   "id": "78d9340b",
   "metadata": {},
   "outputs": [],
   "source": [
    "import pandas as pd\n",
    "import numpy as np\n",
    "import matplotlib.pyplot as plt\n",
    "import seaborn as sns\n",
    "import os\n",
    "import sys\n",
    "import argparse\n",
    "import glob\n",
    "import re\n"
   ]
  },
  {
   "cell_type": "code",
   "execution_count": 2,
   "id": "84c2451b",
   "metadata": {},
   "outputs": [
    {
     "data": {
      "text/plain": [
       "30"
      ]
     },
     "execution_count": 2,
     "metadata": {},
     "output_type": "execute_result"
    }
   ],
   "source": [
    "a = 10\n",
    "b = 20\n",
    "a + b\n"
   ]
  },
  {
   "cell_type": "code",
   "execution_count": 2,
   "id": "3ad5cd68",
   "metadata": {},
   "outputs": [],
   "source": [
    "# aioushndiausndaiusndu"
   ]
  },
  {
   "cell_type": "code",
   "execution_count": 3,
   "id": "08d1bf17",
   "metadata": {},
   "outputs": [],
   "source": [
    "# iqbal"
   ]
  },
  {
   "cell_type": "code",
   "execution_count": 4,
   "id": "a16e1d38",
   "metadata": {},
   "outputs": [],
   "source": [
    "# test"
   ]
  }
 ],
 "metadata": {
  "kernelspec": {
   "display_name": "Python 3",
   "language": "python",
   "name": "python3"
  },
  "language_info": {
   "codemirror_mode": {
    "name": "ipython",
    "version": 3
   },
   "file_extension": ".py",
   "mimetype": "text/x-python",
   "name": "python",
   "nbconvert_exporter": "python",
   "pygments_lexer": "ipython3",
   "version": "3.10.17"
  }
 },
 "nbformat": 4,
 "nbformat_minor": 5
}
